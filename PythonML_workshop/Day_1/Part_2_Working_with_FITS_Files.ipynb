{
  "cells": [
    {
      "cell_type": "markdown",
      "metadata": {
        "id": "Mukg5J36i1Jz"
      },
      "source": [
        "# Part 2 - Understanding FITS files and Plotting Astronomical Images using AstroPy\n",
        "\n",
        "\n",
        "In today's tutorial you will be learning about FITS files, which are a common filetype used to store astronomical data. Over the course of this tutorial, you will explore how to:\n",
        "\n",
        "- download data stored in online archives\n",
        "- open FITS files using Python packages and load image data\n",
        "- explore the header information store in an FITS file\n",
        "- edit a FITS header\n",
        "- combine multiple FITS files to create a 3-color image\n",
        "\n",
        "Before working through today's notebook we suggest you read the following chapters in the textbook:\n",
        "\n",
        " - Data I/O (Ch 5)\n",
        " - Plotting Astronomical Images (Ch 7)"
      ]
    },
    {
      "cell_type": "markdown",
      "source": [
        "## Section 1: Working with FITS files\n",
        "\n",
        "###  Downloading data from an online archive\n",
        "\n",
        "Let's begin by first accessing our data! For today's exercise we will be using data taken by the Las Cumbres Observatory (LCO) telescope network. The LCO archive is open to the public and can be accessed by going to https://archive.lco.global.\n",
        "\n",
        "For this activity, we will be using data from a very specific set of observations of NGC 7635 or \"The Bubble Nebula\". The Bubble Nebula is an HII region emission nebula and was discovered in 1787 by William Herschel. It is located around 7,100 light-years away in the constellation Cassiopeia. Stellar wind from a central hot, massive star creates the “bubble”."
      ],
      "metadata": {
        "id": "7xQxPdADjhUf"
      }
    },
    {
      "cell_type": "markdown",
      "source": [
        "First, let's mount our Google Drive as we've done before to prep our Google Drive space to save the data:"
      ],
      "metadata": {
        "id": "FyoV8AKxk-cM"
      }
    },
    {
      "cell_type": "code",
      "source": [
        "from google.colab import drive\n",
        "drive.mount('/content/drive')"
      ],
      "metadata": {
        "id": "gTkEl_XqlEDN"
      },
      "execution_count": null,
      "outputs": []
    },
    {
      "cell_type": "markdown",
      "source": [
        "Next, we need to make a directory in our Google Drive space to house our data. Let's call this folder \"data\":"
      ],
      "metadata": {
        "id": "RQTG7gEnlRq7"
      }
    },
    {
      "cell_type": "code",
      "source": [
        "import os\n",
        "os.mkdir(\"/content/drive/MyDrive/data/\")"
      ],
      "metadata": {
        "id": "MqTD926ml6B8"
      },
      "execution_count": null,
      "outputs": []
    },
    {
      "cell_type": "markdown",
      "source": [
        "If you load up your Google Drive in a new browser tab, you should now see the directory there. \n",
        "\n",
        "Another way of checking is by clicking on the folder icon in the left-hand side bar, which shows the full directory tree of your Google Drive.\n",
        "\n",
        "Now let's use `wget` a procedure for downloading files, to snag the data we will be working with:"
      ],
      "metadata": {
        "id": "oVsFcn8OmBB6"
      }
    },
    {
      "cell_type": "code",
      "source": [
        "!wget -O /content/drive/MyDrive/data/LCO_NGC7635_B-band.fits https://www.dropbox.com/s/7d1gdkmcqr4wtaj/ogg0m406-kb27-20201107-0173-e91.fits?dl=0"
      ],
      "metadata": {
        "id": "uey6P7fanEs8"
      },
      "execution_count": null,
      "outputs": []
    },
    {
      "cell_type": "markdown",
      "source": [
        "In the cell below, write a `wget` command that would allow us to download a R filter file located at the following URL:\n",
        "\n",
        "https://www.dropbox.com/s/uyqldfawhlmg1hw/ogg0m406-kb27-20201107-0171-e91.fits?dl=0"
      ],
      "metadata": {
        "id": "JLHY3lSWo7Dn"
      }
    },
    {
      "cell_type": "code",
      "source": [
        "#YOUR CODE HERE"
      ],
      "metadata": {
        "id": "oGK2x1mzpQoe"
      },
      "execution_count": null,
      "outputs": []
    },
    {
      "cell_type": "markdown",
      "source": [
        "Note: If you like you can also see all the data for this series of observations by heading over to this archive [link](https://archive.lco.global/?reduction_level=91&request_id=2286975&start=2014-08-01%2000%3A00&end=2023-01-31%2023%3A59&public=true&limit=20):"
      ],
      "metadata": {
        "id": "IOyLzEvWt0nA"
      }
    },
    {
      "cell_type": "markdown",
      "metadata": {
        "id": "koj6_YjJi1J2"
      },
      "source": [
        "#### Let's start working with the data!\n",
        "\n",
        "Here, we begin by loading in some important packages that we'll be using:"
      ]
    },
    {
      "cell_type": "code",
      "execution_count": null,
      "metadata": {
        "id": "E179icTri1J3"
      },
      "outputs": [],
      "source": [
        "from datetime import datetime\n",
        "import numpy as np\n",
        "\n",
        "# Set up matplotlib\n",
        "import matplotlib.pyplot as plt\n",
        "%matplotlib inline\n",
        "\n",
        "from astropy.io import fits"
      ]
    },
    {
      "cell_type": "markdown",
      "metadata": {
        "id": "JMo-miQii1J4"
      },
      "source": [
        "### Opening FITS files and loading the image data\n",
        "\n",
        "Let's open the FITS file to find out what it contains! Edit the cell below such that the variable \"fits_1\" is assigned the file name of one of the files you have downloaded today."
      ]
    },
    {
      "cell_type": "code",
      "execution_count": null,
      "metadata": {
        "id": "iheSg4j-i1J4"
      },
      "outputs": [],
      "source": [
        "fits_1 = '/content/drive/MyDrive/data/LCO_NGC7635_B-band.fits'"
      ]
    },
    {
      "cell_type": "markdown",
      "metadata": {
        "id": "a4WFkSDBi1J5"
      },
      "source": [
        "Now let's open up this file and get some info on what the file contains:"
      ]
    },
    {
      "cell_type": "code",
      "execution_count": null,
      "metadata": {
        "id": "ym2aM7Qwi1J5"
      },
      "outputs": [],
      "source": [
        "hdu_list = fits.open(fits_1)\n",
        "\n",
        "hdu_list.info()"
      ]
    },
    {
      "cell_type": "markdown",
      "metadata": {
        "id": "xrseXBDIi1J5"
      },
      "source": [
        "A FITS file is comprised of segments called **Header Data Units** (HDUs), where the first HDU is called the \"Primary HDU\", or \"Primary Array\". An HDU is the highest level component of the FITS file structure, consisting of a header and (typically) a data array or table.\n",
        "\n",
        "A `hdulist`, like you see in the output above, behaves like a Python list, and each element maps to a HDU in the FITS file."
      ]
    },
    {
      "cell_type": "markdown",
      "metadata": {
        "id": "lWwnIoLni1J6"
      },
      "source": [
        "***\n",
        "\n",
        "#### Q - How many HDUs does this FITS file have? What do you think is the purpose for each one?\n",
        "\n",
        "***\n",
        "\n",
        "Ans."
      ]
    },
    {
      "cell_type": "markdown",
      "metadata": {
        "id": "ouNIAmWHi1J6"
      },
      "source": [
        "Each HDU object has two important attributes: \n",
        "\n",
        " - **data**, which behaves like a Numpy array, can be used to access the data\n",
        " - **header**, which behaves like a dictionary, can be used to access the header information which is information about the data itself \n",
        "\n",
        "`astropy.io.fits` provides a lot of flexibility for reading FITS files and headers, but most of the time the convenience functions are the easiest way to access the data. `fits.getdata()` reads only the data from a FITS file, but with the header=True keyword argument will also read the header.\n",
        "\n",
        "Let's try this below:"
      ]
    },
    {
      "cell_type": "code",
      "execution_count": null,
      "metadata": {
        "id": "yH_9cqvUi1J7"
      },
      "outputs": [],
      "source": [
        "data, header = fits.getdata(fits_1, header=True)"
      ]
    },
    {
      "cell_type": "markdown",
      "metadata": {
        "id": "VuOT9U-1i1J7"
      },
      "source": [
        "There is also a dedicated function for reading only the header, called `fits.getheader()`:"
      ]
    },
    {
      "cell_type": "code",
      "execution_count": null,
      "metadata": {
        "id": "mzNeexrri1J8"
      },
      "outputs": [],
      "source": [
        "hdu_number = 0 # Primary HDU\n",
        "\n",
        "fits.getheader(fits_1, hdu_number)"
      ]
    },
    {
      "cell_type": "markdown",
      "metadata": {
        "id": "L8bQsyaai1J8"
      },
      "source": [
        "***\n",
        "\n",
        "#### Q - Scroll through the header above. What types of information does this header contain? Why might headers be important for astronomers to include in their datafiles?\n",
        "\n",
        "***\n",
        "\n",
        "Ans."
      ]
    },
    {
      "cell_type": "markdown",
      "metadata": {
        "id": "cNZEpTV5i1J9"
      },
      "source": [
        "Because `getdata()` can get both the data and the header, it's a very useful command to remember! Since the primary HDU of a FITS file must contain image data, the data is now stored in a numpy array. The header is stored in an object that acts like a standard Python dictionary.\n",
        "\n",
        "We can access individual header keywords using standard item notation in Python. For example, if we are curious about where the data was acquired, we can use the `SITE` card."
      ]
    },
    {
      "cell_type": "code",
      "execution_count": null,
      "metadata": {
        "id": "smuj35tYi1J9"
      },
      "outputs": [],
      "source": [
        "header[\"SITE\"]"
      ]
    },
    {
      "cell_type": "markdown",
      "metadata": {
        "id": "0lesuVQKi1J9"
      },
      "source": [
        "This tells us this image was recorded at Haleakala Observatory.\n",
        "\n",
        "We can also take a look at the data:"
      ]
    },
    {
      "cell_type": "code",
      "execution_count": null,
      "metadata": {
        "id": "N_Lu7sgYi1J-"
      },
      "outputs": [],
      "source": [
        "data.shape"
      ]
    },
    {
      "cell_type": "markdown",
      "metadata": {
        "id": "VrKGJjUVi1J-"
      },
      "source": [
        "This tells us that the data is stored in a 2-dimensional array that is **2042 x 3054 pixels** in size.\n",
        "\n",
        "Modifying data or header information in a FITS file object is easy. We can update existing header keywords and even _create_ new keywords like as follows:"
      ]
    },
    {
      "cell_type": "code",
      "execution_count": null,
      "metadata": {
        "id": "U0fLRZngi1J-"
      },
      "outputs": [],
      "source": [
        "now = datetime.now()\n",
        "\n",
        "timenow = now.strftime(\"%H:%M:%S\")\n",
        "\n",
        "print(timenow)\n",
        "\n",
        "header['MODIFIED'] = timenow  # adds a new keyword"
      ]
    },
    {
      "cell_type": "markdown",
      "metadata": {
        "id": "GfWO5RsXi1J_"
      },
      "source": [
        "In the cell below, write a statement that reads out the exposure time keyword. How long did the telescope integrate on this image?"
      ]
    },
    {
      "cell_type": "code",
      "execution_count": null,
      "metadata": {
        "id": "ZOkUfSRLi1J_"
      },
      "outputs": [],
      "source": [
        "#Your Code Here"
      ]
    },
    {
      "cell_type": "markdown",
      "metadata": {
        "id": "_mVb1t9ci1KA"
      },
      "source": [
        "As we stated above, HDU objects have two parts: a header and an array of data.\n",
        "\n",
        "Let's begin to explore the data component of the primary HDU by plotting it into a figure."
      ]
    },
    {
      "cell_type": "code",
      "execution_count": null,
      "metadata": {
        "id": "j2cttdAgi1KA"
      },
      "outputs": [],
      "source": [
        "plt.imshow(data[:,:], origin='lower')"
      ]
    },
    {
      "cell_type": "markdown",
      "metadata": {
        "id": "gIs0NhQyi1KA"
      },
      "source": [
        "As you can see, the image looks not so remarkable.. it almost looks featureless!\n",
        "\n",
        "For one, it's a little small. We can increase its generated size using the `rcParams` attribute.\n",
        "\n",
        "Also.. while we observe a few stars the image looks quite faded. Astronomers will often apply _image normalization_ here to improve the visualization of data. In image processing, a normalization is a process that changes the range of pixel intensity values. \n",
        "\n",
        "Let's try it!"
      ]
    },
    {
      "cell_type": "code",
      "execution_count": null,
      "metadata": {
        "scrolled": false,
        "id": "nb3fPv9vi1KB"
      },
      "outputs": [],
      "source": [
        "from astropy.visualization import (MinMaxInterval, SqrtStretch,\n",
        "                                   ImageNormalize)\n",
        "\n",
        "# Create an ImageNormalize object\n",
        "norm = ImageNormalize(data[:,:], interval=MinMaxInterval(),\n",
        "                      stretch=SqrtStretch())\n",
        "\n",
        "plt.rcParams['figure.figsize'] = [12, 8]\n",
        "plt.imshow(data[:,:], origin='lower', vmin=-0.0, vmax=15356.9, norm=norm)"
      ]
    },
    {
      "cell_type": "markdown",
      "metadata": {
        "id": "vaBHnkX1i1KB"
      },
      "source": [
        "We can now observe many more features in the data!\n",
        "\n",
        "Note that this is just a plot of an array, so the coordinates are just pixel coordinates at this stage. The data is stored with _longitude_ increasing to the _right_ (the opposite of the normal convention in astronomy)."
      ]
    },
    {
      "cell_type": "markdown",
      "metadata": {
        "id": "wqqMsJfxi1KB"
      },
      "source": [
        "Now let's save our changes by writing to a *new* fits file using the `writeto` process in AstroPy:"
      ]
    },
    {
      "cell_type": "code",
      "execution_count": null,
      "metadata": {
        "id": "vjQSPUrxi1KC"
      },
      "outputs": [],
      "source": [
        "fits.writeto('my_modified_file.fits', data, header, overwrite=True)"
      ]
    },
    {
      "cell_type": "markdown",
      "metadata": {
        "id": "2a6eteKGi1KC"
      },
      "source": [
        "Now let's load in the new file and readout the header. You should see a new card created that has a value assigned with the current time and date!"
      ]
    },
    {
      "cell_type": "code",
      "execution_count": null,
      "metadata": {
        "id": "CU_dXUhni1KC"
      },
      "outputs": [],
      "source": [
        "fits.getheader('my_modified_file.fits', hdu_number)"
      ]
    },
    {
      "cell_type": "markdown",
      "metadata": {
        "id": "bWjwyeGJi1KD"
      },
      "source": [
        "We can use AstroPy to also get some statistics about our image:"
      ]
    },
    {
      "cell_type": "code",
      "execution_count": null,
      "metadata": {
        "id": "ZvxiEu3Ai1KD"
      },
      "outputs": [],
      "source": [
        "print('Min:', np.min(data))\n",
        "print('Max:', np.max(data))\n",
        "print('Mean:', np.mean(data))\n",
        "print('Stdev:', np.std(data))"
      ]
    },
    {
      "cell_type": "markdown",
      "metadata": {
        "id": "j3mpCfbui1KE"
      },
      "source": [
        "***\n",
        "\n",
        "#### Q - What do you think these statistics reference? For example, the cell above outputs a min value and a max value. What do these min and max values represent?\n",
        "\n",
        "***\n",
        "\n",
        "Ans."
      ]
    },
    {
      "cell_type": "markdown",
      "metadata": {
        "id": "DXj75LAEi1KE"
      },
      "source": [
        "### Plotting out the Data\n",
        "\n",
        "We can also use Python to visualize our astronomical images in different ways. For example, we notice in the above image a number of stars. We can slice our image in such a way that we select out only a small region of the above image and plot that out.\n",
        "\n",
        "\n",
        "\n",
        "select out a row or column of data that passes through a star and plot out a histogram of this data sub-set.\n",
        "\n",
        "for features in the image by collapsing it along one axis and plotting out a histogram. to do this we'll be first using `ndarray.flatten()` to collapse the data and returna  1D numpy array. Then, to make a histogram we will use `matplotlib.pyplot.hist()`."
      ]
    },
    {
      "cell_type": "code",
      "execution_count": null,
      "metadata": {
        "scrolled": false,
        "id": "thZbSJPBi1KE"
      },
      "outputs": [],
      "source": [
        "plt.rcParams['figure.figsize'] = [12, 8]\n",
        "plt.imshow(data[1521:1671,2013:2163], origin='lower', vmin=0.0, vmax=15356.9, norm=norm)"
      ]
    },
    {
      "cell_type": "markdown",
      "metadata": {
        "id": "pSKJ1T6Ci1KF"
      },
      "source": [
        "We can also slice out a single row of data which passes through the center of the star and plot this out in 1D:"
      ]
    },
    {
      "cell_type": "code",
      "execution_count": null,
      "metadata": {
        "id": "BoJb9Ip1i1KF"
      },
      "outputs": [],
      "source": [
        "plt.plot(data[1596, 2013:2163], label=\"pixel values\")\n",
        "plt.legend(fontsize=\"x-large\")"
      ]
    },
    {
      "cell_type": "markdown",
      "metadata": {
        "id": "AZ-fKeDmi1KG"
      },
      "source": [
        "Can you write a block of code that produces a similar line plot passing through one of the fainter stars in the image? Write this code block below."
      ]
    },
    {
      "cell_type": "code",
      "execution_count": null,
      "metadata": {
        "id": "ZEpAElAti1KG"
      },
      "outputs": [],
      "source": [
        "#Your Code Here"
      ]
    },
    {
      "cell_type": "markdown",
      "metadata": {
        "id": "H9qnHhNzi1KG"
      },
      "source": [
        "## World Coordinate Systems in FITS files\n",
        "\n",
        "Also stored within the header of a FITS file is information regarding the image's **world coordinate system** or **WCS**. World Coordinate Systems describe the geometric transformations between one set of coordinates and another. A common application (as seen in this dataset) is to map the pixels in an image onto the celestial sphere. Another common application is to map pixels to wavelength in a spectrum.\n",
        "\n",
        "`astropy.wcs` contains utilities for managing World Coordinate System (WCS) transformations defined in several elaborate FITS WCS standard conventions. These transformations work both forward (from pixel to world) and backward (from world to pixel). Let's explore that a bit here. \n",
        "\n",
        "Let's begin by first loading in `astropy.wcs`:"
      ]
    },
    {
      "cell_type": "code",
      "execution_count": null,
      "metadata": {
        "id": "Og6fkr-Wi1KG"
      },
      "outputs": [],
      "source": [
        "from astropy.wcs import WCS"
      ]
    },
    {
      "cell_type": "markdown",
      "metadata": {
        "id": "VN_a2rr5i1KH"
      },
      "source": [
        "Now let's load in the WCS information stored in the header of the FITS file:"
      ]
    },
    {
      "cell_type": "code",
      "execution_count": null,
      "metadata": {
        "id": "VuuHONiji1KH"
      },
      "outputs": [],
      "source": [
        "wcs = WCS(header)"
      ]
    },
    {
      "cell_type": "markdown",
      "metadata": {
        "id": "tSYuWRLLi1KH"
      },
      "source": [
        "We can then print out this information to get a better idea of the coordinate system used in our image:"
      ]
    },
    {
      "cell_type": "code",
      "execution_count": null,
      "metadata": {
        "id": "gteCl7hZi1KI"
      },
      "outputs": [],
      "source": [
        "print(wcs)"
      ]
    },
    {
      "cell_type": "markdown",
      "metadata": {
        "id": "Dh_Jd9mMi1KI"
      },
      "source": [
        "It's important to unpack this information! Here's what these values mean:\n",
        "\n",
        " - **CTYPE**: The TYPE of coordinate system. Here, it is Right Ascension (R.A.) and Declination (Dec). You can learn more about R.A. and Dec as a coordinate system [here](https://skyandtelescope.org/astronomy-resources/right-ascension-declination-celestial-coordinates/).\n",
        " - **CRPIX**: The reference value pixel\n",
        " - **CRVAL**: The R.A. and Dec values for the reference pixel\n",
        " - **CD values**: These values represent the values that comprise a linear transformation matrix. This matrix tells the computer how the coordinate system axes are oriented in relation to the array axes.\n",
        " \n",
        " \n",
        " Together these values allow astronomer to make the transformation between array/pixel coordinates to astronomical coordinates. More information on WCS and related keywords can be found [here](https://fits.gsfc.nasa.gov/standard40/fits_standard40aa-le.pdf).\n",
        " \n",
        " So now let's load in the WCS to our image so that the vertical and horizontal axes are properly labeled."
      ]
    },
    {
      "cell_type": "code",
      "execution_count": null,
      "metadata": {
        "scrolled": false,
        "id": "RfFJ_E74i1KI"
      },
      "outputs": [],
      "source": [
        "plt.clf()\n",
        "ax = plt.subplot(projection=wcs)\n",
        "plt.imshow(data, origin='lower', vmin=0.0, vmax=15356.9, norm=norm)\n",
        "ax.set_xlabel('Right Ascension', fontsize=18)\n",
        "ax.set_ylabel('Declination', fontsize=18)\n",
        "plt.show()"
      ]
    },
    {
      "cell_type": "markdown",
      "metadata": {
        "id": "wQjkVwE6i1KJ"
      },
      "source": [
        "We can also overlay grid lines in white which show the grid of the WCS:"
      ]
    },
    {
      "cell_type": "code",
      "execution_count": null,
      "metadata": {
        "id": "49MpwoUIi1KJ"
      },
      "outputs": [],
      "source": [
        "ax = plt.subplot(projection=wcs)\n",
        "plt.imshow(data, origin='lower', vmin=0.0, vmax=22318.7, norm=norm)\n",
        "plt.grid(color='white', ls='solid')\n",
        "ax.set_xlabel('Right Ascension', fontsize=18)\n",
        "ax.set_ylabel('Declination', fontsize=18)"
      ]
    },
    {
      "cell_type": "markdown",
      "metadata": {
        "id": "g8n6wZIIi1KJ"
      },
      "source": [
        "Indeed, there is lots that can be done with `astropy.wcs` and `matplotlib` in terms of creating really complex and rich figures of astronomical data for publications. More information on editing and controlling a figures axes/ticks/labels can be found [here](\"https://docs.astropy.org/en/stable/visualization/wcsaxes/ticks_labels_grid.html).\n",
        "\n",
        "You can even try editing this notebook to incorporate some of the plotting techniques in that tutorial using this dataset!"
      ]
    },
    {
      "cell_type": "markdown",
      "metadata": {
        "id": "KK0nDHpMi1KK"
      },
      "source": [
        "## Making a 3-Color Images from Astronomical Data\n",
        "\n",
        "Satellite and spacecraft images are not visual color photographs but pictorial presentations of measured data. Image collection systems measure electromagnetic radiation in different bands of the electromagnetic spectrum (i.e. radio, infrared, visible, ultraviolet, X-ray, gamma ray). The color images you often see are in most cases assembled from separate black & white images taken through special types of filters. To produce one color image, three separate images are collected through a red, a green, and a blue filter. The three images are then combined with image analysis software into one color image.\n",
        "\n",
        "For this reason, astronomical images are not “true color” images – they do not represent visually accurate color – they use “false” colors or more accurately “representative” colors. True color would be an attempt to reproduce a visually accurate color. False color is an arbitrary selection of colors to represent some characteristic in the image, such as photon intensity, energy, temperature and chemical composition/distribution, or features such as shock waves and magnetic fields.\n",
        "\n",
        "In this section we're going to be exploring how astronomers construct 3-color images using data from the Sloan Digital Sky Survey (SDSS)."
      ]
    },
    {
      "cell_type": "markdown",
      "source": [
        "I've hosted three FITS files at the following URLs:\n",
        "\n",
        "\n",
        "*   _i_ filter: https://www.dropbox.com/s/h61jlyjsehrueb9/reprojected_sdss_i.fits?dl=0\n",
        "*   _g_ filter: https://www.dropbox.com/s/atgzojgedcl8f7m/reprojected_sdss_g.fits?dl=0\n",
        "*   _r_ filter: https://www.dropbox.com/s/fvw4w5tfpc5vr6h/reprojected_sdss_r.fits?dl=0\n",
        "\n",
        "Write a series of `wget` commands that download these files into your `data` folder on Drive.\n",
        "\n"
      ],
      "metadata": {
        "id": "Gce-TaXcqeO6"
      }
    },
    {
      "cell_type": "code",
      "source": [
        "# YOUR CODE HERE"
      ],
      "metadata": {
        "id": "bavk9gLNrQ-w"
      },
      "execution_count": null,
      "outputs": []
    },
    {
      "cell_type": "code",
      "execution_count": null,
      "metadata": {
        "id": "Pkf1fKTTi1KK"
      },
      "outputs": [],
      "source": [
        "i_data, i_header = fits.getdata('/content/drive/MyDrive/data/reprojected_sdss_i.fits', header=True)\n",
        "r_data, r_header = fits.getdata('/content/drive/MyDrive/data/reprojected_sdss_r.fits', header=True)\n",
        "g_data, g_header = fits.getdata('/content/drive/MyDrive/data/reprojected_sdss_g.fits', header=True)"
      ]
    },
    {
      "cell_type": "markdown",
      "metadata": {
        "id": "VAK8I5Ixi1KK"
      },
      "source": [
        "Write out a code block below which reads in the header of this file. What type of coordinate system does this FITS file use?"
      ]
    },
    {
      "cell_type": "code",
      "execution_count": null,
      "metadata": {
        "id": "uEbkXj6ai1KL"
      },
      "outputs": [],
      "source": [
        "#YOUR CODE HERE"
      ]
    },
    {
      "cell_type": "markdown",
      "metadata": {
        "id": "E8kYkzP6i1KL"
      },
      "source": [
        "Next we're going to load in the `make_lupton_rgb` convenience function from `astropy.visualization`."
      ]
    },
    {
      "cell_type": "code",
      "execution_count": null,
      "metadata": {
        "id": "WogB9XIZi1KL"
      },
      "outputs": [],
      "source": [
        "from astropy.visualization import make_lupton_rgb"
      ]
    },
    {
      "cell_type": "markdown",
      "metadata": {
        "id": "YiUTfnUyi1KL"
      },
      "source": [
        "[Lupton et al. (2004)](https://ui.adsabs.harvard.edu/abs/2004PASP..116..133L/abstract) describe an “optimal” algorithm for producing red-green- blue composite images from three separate high-dynamic range arrays. This method is implemented in `make_lupton_rgb` as a convenience wrapper function and an associated set of classes to provide alternate scalings.\n",
        "\n",
        "The next step is to then use this function to produce a 3-color RBG image from the *i*, *r*, and *g* filters data and display it using `matplotlib`."
      ]
    },
    {
      "cell_type": "code",
      "execution_count": null,
      "metadata": {
        "id": "X8eQb08hi1KM"
      },
      "outputs": [],
      "source": [
        "rgb_default = make_lupton_rgb(i_data, r_data, g_data, filename=\"ngc6976-default.jpeg\")\n",
        "ax2 = plt.subplot(projection=wcs)\n",
        "plt.imshow(rgb_default, origin='lower')"
      ]
    },
    {
      "cell_type": "markdown",
      "metadata": {
        "id": "J6aWg4Wwi1KM"
      },
      "source": [
        "We can also modify the scaling when computing the RGB image to allow for fainter features of the galaxies to show up better:"
      ]
    },
    {
      "cell_type": "code",
      "execution_count": null,
      "metadata": {
        "id": "AvuA8B9-i1KM"
      },
      "outputs": [],
      "source": [
        "rgb = make_lupton_rgb(i_data, r_data, g_data, Q=10, stretch=0.5, filename=\"ngc6976.jpeg\")\n",
        "plt.imshow(rgb, origin='lower')"
      ]
    },
    {
      "cell_type": "markdown",
      "metadata": {
        "id": "sJHzhziKi1KM"
      },
      "source": [
        "Note: this image is now saved in this tutorial's main directory as `\"ngc6976.jpeg\"`. Go take a look!"
      ]
    },
    {
      "cell_type": "markdown",
      "metadata": {
        "id": "8IG1mPkBi1KN"
      },
      "source": [
        "As a final step - in the cell below, right some code that re-plots this image using the WCS in the header to assign the axes."
      ]
    },
    {
      "cell_type": "code",
      "execution_count": null,
      "metadata": {
        "id": "q8MeTUIYi1KN"
      },
      "outputs": [],
      "source": [
        "#YOUR CODE HERE"
      ]
    },
    {
      "cell_type": "markdown",
      "source": [
        "***\n",
        "\n",
        "#### Q - What types of astronomical objects do you see in this frame for NGC6976?\n",
        "\n",
        "***\n",
        "\n",
        "Ans."
      ],
      "metadata": {
        "id": "nehMvx_jr3Mv"
      }
    },
    {
      "cell_type": "markdown",
      "metadata": {
        "id": "vxTBHKw7i1KN"
      },
      "source": [
        "That's it for today! Congrats on successfully completing Part 2 of our workshop's AstroPy FITS tutorial! "
      ]
    },
    {
      "cell_type": "markdown",
      "source": [
        "***\n",
        "\n",
        "# EXTRA\n",
        "\n",
        "There is a third image associated with the first dataset we explored today, the Bubble Nebula (NGC 7635, Caldwell 11). You can find this V-filter image hosted here: https://www.dropbox.com/s/dzneit6oaevmm9j/ogg0m406-kb27-20201107-0172-e91.fits?dl=0\n",
        "\n",
        "Load in this file using `wget` and make an RGB 3-color image of The Bubble Nebula where R is red, V is green, and B is blue!\n",
        "\n"
      ],
      "metadata": {
        "id": "WzuQDgpgs8Ox"
      }
    },
    {
      "cell_type": "code",
      "source": [],
      "metadata": {
        "id": "cenc9r_vs4pY"
      },
      "execution_count": null,
      "outputs": []
    }
  ],
  "metadata": {
    "kernelspec": {
      "display_name": "Python 3",
      "language": "python",
      "name": "python3"
    },
    "language_info": {
      "codemirror_mode": {
        "name": "ipython",
        "version": 3
      },
      "file_extension": ".py",
      "mimetype": "text/x-python",
      "name": "python",
      "nbconvert_exporter": "python",
      "pygments_lexer": "ipython3",
      "version": "3.8.3"
    },
    "colab": {
      "provenance": []
    },
    "accelerator": "GPU"
  },
  "nbformat": 4,
  "nbformat_minor": 0
}