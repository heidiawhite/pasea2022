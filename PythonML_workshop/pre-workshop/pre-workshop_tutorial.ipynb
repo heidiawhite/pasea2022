{
 "cells": [
  {
   "cell_type": "markdown",
   "metadata": {
    "id": "BHst1KEBNKDi"
   },
   "source": [
    "# It's Day 0 and I know nothing — where do I start?\n"
   ]
  },
  {
   "cell_type": "markdown",
   "metadata": {
    "id": "X-xe5YNZNKDk"
   },
   "source": [
    "## A pre-workshop \"bootcamp\" tutorial for the absolute basics of Python"
   ]
  },
  {
   "cell_type": "markdown",
   "metadata": {
    "id": "MBVDCyoeNKDk"
   },
   "source": [
    "Welcome. In this tutorial, we're going to work through the absolute basics of the Python programming language. We highly recommend reading Chapter 2 of the [textbook](https://prappleizer.github.io/index.html) either before, or concurrently, with working through this tutorial. It will cover much the same ground, but here you'll get to actively practice the techniques described. \n",
    "\n",
    "Let's start with the concept of a **declaration**. In Python, our primary goal is to perform calculations - you can think of it as an extremely powerful calculator, and indeed, much of what we build in python amounts to pipelines that string simple mathematical computations together and perform them on data. \n",
    "\n",
    "In order to work with more complex data than a pocket calculator (in which we type in the numbers to be computed directly), Python allows us to declare **variables** to store those values for later use. See below:"
   ]
  },
  {
   "cell_type": "code",
   "execution_count": null,
   "metadata": {
    "id": "Y4BDIHMANKDk"
   },
   "outputs": [],
   "source": [
    "variable_1 = 5"
   ]
  },
  {
   "cell_type": "code",
   "execution_count": null,
   "metadata": {
    "id": "i5QOAc0gNKDl"
   },
   "outputs": [],
   "source": [
    "variable_2 = 6"
   ]
  },
  {
   "cell_type": "code",
   "execution_count": null,
   "metadata": {
    "id": "Ez6Xz10FNKDl"
   },
   "outputs": [],
   "source": [
    "output = variable_1 + variable_2"
   ]
  },
  {
   "cell_type": "code",
   "execution_count": null,
   "metadata": {
    "colab": {
     "base_uri": "https://localhost:8080/"
    },
    "id": "3SVq5Xy-NKDl",
    "outputId": "6b6da3d7-b9a2-4ae2-dccf-3c36488cad84"
   },
   "outputs": [],
   "source": [
    "print(output)"
   ]
  },
  {
   "cell_type": "markdown",
   "metadata": {
    "id": "pxcPzHNINKDm"
   },
   "source": [
    "All we did was store the numbers 5 and 6 into variables (which we lazily and poorly named 'variable_1' and 'variable_2'), and then computed their sum. **Note:** One additional takeaway here is the underscore in the variable names - you cannot have spaces in variable names, so often programmers use underscores when needed. We'll talk later about best practices when naming variables. \n",
    "\n",
    "You might be asking, \"Why did you go through the work of declaring those variables and adding them, when you could've just done:\""
   ]
  },
  {
   "cell_type": "code",
   "execution_count": null,
   "metadata": {
    "colab": {
     "base_uri": "https://localhost:8080/"
    },
    "id": "WjLs2NMFNKDm",
    "outputId": "43034f2c-6061-44a2-d017-d267faca4754"
   },
   "outputs": [],
   "source": [
    "5 + 6"
   ]
  },
  {
   "cell_type": "markdown",
   "metadata": {
    "id": "RYXTinIzNKDn"
   },
   "source": [
    "In this particular case, you are absolutely right. If we wanted to know the sum of 5 and 6, we could've just typed it in. Indeed, even if we needed to save that output somewhere, we could've done"
   ]
  },
  {
   "cell_type": "code",
   "execution_count": null,
   "metadata": {
    "id": "8d7t2H9ONKDn"
   },
   "outputs": [],
   "source": [
    "output2 = 5 + 6"
   ]
  },
  {
   "cell_type": "markdown",
   "metadata": {
    "id": "yvA0vtybNKDn"
   },
   "source": [
    "And now, we can look at the output at any time:"
   ]
  },
  {
   "cell_type": "code",
   "execution_count": null,
   "metadata": {
    "colab": {
     "base_uri": "https://localhost:8080/"
    },
    "id": "4vMQnc2gNKDn",
    "outputId": "a0022711-db24-401c-dba9-801fcee052d4"
   },
   "outputs": [],
   "source": [
    "print(output2)"
   ]
  },
  {
   "cell_type": "markdown",
   "metadata": {
    "id": "xdvlpmuZNKDn"
   },
   "source": [
    "Or, we can use it in further calculations:"
   ]
  },
  {
   "cell_type": "code",
   "execution_count": null,
   "metadata": {
    "id": "5W1Vz2vTNKDo"
   },
   "outputs": [],
   "source": [
    "output3 = output2 * 5"
   ]
  },
  {
   "cell_type": "code",
   "execution_count": null,
   "metadata": {
    "colab": {
     "base_uri": "https://localhost:8080/"
    },
    "id": "NSSBnbEiNKDo",
    "outputId": "b4be76e1-b11b-4648-f858-af96a59e94df"
   },
   "outputs": [],
   "source": [
    "print(output3)"
   ]
  },
  {
   "cell_type": "markdown",
   "metadata": {
    "id": "wsMqpGajNKDo"
   },
   "source": [
    "Now might be a good time to go over the native mathematical operations available to you in Python (we've seen 2 so far). "
   ]
  },
  {
   "cell_type": "code",
   "execution_count": null,
   "metadata": {
    "id": "f9WoqxR7NKDo"
   },
   "outputs": [],
   "source": [
    "addition = 5 + 5\n",
    "subtraction = 5 - 5\n",
    "multiplication = 5 * 5\n",
    "division = 5 / 6        # Be careful of the Python version!\n",
    "exponentiation = 5**2\n",
    "modulus = 5 % 3"
   ]
  },
  {
   "cell_type": "markdown",
   "metadata": {
    "id": "yyqI7XiKNKDo"
   },
   "source": [
    "What did we mean by \"Be careful of the Python Version\" in the comment above (**note:** you can use comments in lines of code, via the # symbol, to leave descriptions and instructions in your code that aren't seen or run by the interpreter). \n",
    "\n",
    "Let's do an experiment:"
   ]
  },
  {
   "cell_type": "code",
   "execution_count": null,
   "metadata": {
    "colab": {
     "base_uri": "https://localhost:8080/"
    },
    "id": "m3wxs6ecNKDp",
    "outputId": "f605cfeb-e5f7-40e7-8ec2-b2d6774d3bec"
   },
   "outputs": [],
   "source": [
    "print(division)"
   ]
  },
  {
   "cell_type": "markdown",
   "metadata": {
    "id": "Hx5T4LIiNKDp"
   },
   "source": [
    "If you are using **Python version 3.x** (which you should be using!), you will see an accurate answer. On Python version 2.x, you will get 0 even though 5/6 isn't 0 (!). Why so?\n",
    "\n",
    "This discrepancy is a result of the **datatypes** used in different Python versions. In Python 2.x (as opposed to any version of Python 3), numbers like those we've been using are treated as **integers** - the computer only knows their values to the \"one's place\", and thus finds 5/6 to be 0.\n",
    "\n",
    "In Python 3, this issue has been resolved by performing all calculations in **floating point** -- which means including the decimal values.\n",
    "\n",
    "You can use the following to check what Python version you are using"
   ]
  },
  {
   "cell_type": "code",
   "execution_count": null,
   "metadata": {
    "colab": {
     "base_uri": "https://localhost:8080/"
    },
    "id": "BSAXjGkvNKDp",
    "outputId": "cd9f7b29-2906-4dcb-d56e-8fb1ada9c691"
   },
   "outputs": [],
   "source": [
    "from platform import python_version\n",
    "\n",
    "print(python_version())"
   ]
  },
  {
   "cell_type": "markdown",
   "metadata": {
    "id": "pAEamGcnNKDp"
   },
   "source": [
    "The Python Software Foundation (core Python development team) is not officially supporting/improving Python 2. So use Python 3 whenever possible! Do not worry about the **import** statement above. It represents an advanced topic that we will discuss in detail later."
   ]
  },
  {
   "cell_type": "markdown",
   "metadata": {
    "id": "CcP17q7LNKDq"
   },
   "source": [
    "Now, let's see how you can explicitly treat a number as an **integer** or a **floating point**:"
   ]
  },
  {
   "cell_type": "code",
   "execution_count": null,
   "metadata": {
    "colab": {
     "base_uri": "https://localhost:8080/"
    },
    "id": "HsY3WDE-NKDq",
    "outputId": "40f2ed30-9796-4b5c-a4dc-6f8bbbda9318"
   },
   "outputs": [],
   "source": [
    "int(division)"
   ]
  },
  {
   "cell_type": "code",
   "execution_count": null,
   "metadata": {
    "colab": {
     "base_uri": "https://localhost:8080/"
    },
    "id": "BE2uyH7PNKDq",
    "outputId": "989e5e79-38d1-425a-c819-25d96158dbe0"
   },
   "outputs": [],
   "source": [
    "float(int(division))"
   ]
  },
  {
   "cell_type": "markdown",
   "metadata": {
    "id": "gMhcqQZVNKDq"
   },
   "source": [
    "The above illustrates two points. The first is that you can force any float to be an integer by **typecasting** it using the **int** command. This command rounds what might be a floating point number to an integer. The same goes in reverse."
   ]
  },
  {
   "cell_type": "markdown",
   "metadata": {
    "id": "SFeKF0fqNKDr"
   },
   "source": [
    "### Exercise 1: A simple calculation"
   ]
  },
  {
   "cell_type": "markdown",
   "metadata": {
    "id": "skkFFpefNKDr"
   },
   "source": [
    "In the box below, create 8 variables which hold the equatorial radii of the planets in our [Solar System](https://solarsystem.nasa.gov/planets/overview/). Note that we are not including Pluto since it now belongs to a new class: dwarf planets!\n",
    "\n",
    "You can search the values online and input them here in **km** units. It would be great if they are accurate upto one decimal digit (float values)."
   ]
  },
  {
   "cell_type": "code",
   "execution_count": null,
   "metadata": {
    "id": "5zCqjbCpNKDr"
   },
   "outputs": [],
   "source": [
    "mercury_radius = 2439.7\n",
    "# Your code here"
   ]
  },
  {
   "cell_type": "markdown",
   "metadata": {
    "id": "U2JLtJUiNKDr"
   },
   "source": [
    "Set a variable named \"radius_average\" that is equal to the average of the eight radii. Be careful of order of operations! You can group operations, just like in PEMDAS math, using soft parenthesis \"()\"."
   ]
  },
  {
   "cell_type": "code",
   "execution_count": null,
   "metadata": {
    "id": "GpKd6ya0NKDr"
   },
   "outputs": [],
   "source": [
    "# Your code here\n",
    "radius_average ="
   ]
  },
  {
   "cell_type": "code",
   "execution_count": null,
   "metadata": {
    "colab": {
     "base_uri": "https://localhost:8080/"
    },
    "id": "_UECrCQ2NKDr",
    "outputId": "a86e4d12-acb3-4c6a-f9b4-7b0022869d84"
   },
   "outputs": [],
   "source": [
    "print(radius_average)"
   ]
  },
  {
   "cell_type": "markdown",
   "metadata": {
    "id": "BuuqtjaCNKDs"
   },
   "source": [
    "Note that the radii of giant planets are much larger than that of terrestrial planets. The average (or mean) statistic is sensitive to extremely large (or small values), and hence the average we see here is quite high. In comparison, other statistical measures of central tendency like the median and mode are not affected by extreme values."
   ]
  },
  {
   "cell_type": "markdown",
   "metadata": {
    "id": "zS-5qK0-NKDs"
   },
   "source": [
    "Now, the sum of the planet radii is just"
   ]
  },
  {
   "cell_type": "code",
   "execution_count": null,
   "metadata": {
    "id": "G4MpPpCPNKDs"
   },
   "outputs": [],
   "source": [
    "radii_sum = 8 * radius_average"
   ]
  },
  {
   "cell_type": "markdown",
   "metadata": {
    "id": "Ww-pgXk8NKDs"
   },
   "source": [
    "Excluding the Earth, this sum is"
   ]
  },
  {
   "cell_type": "code",
   "execution_count": null,
   "metadata": {
    "id": "2bDk5ykSNKDt"
   },
   "outputs": [],
   "source": [
    "radii_sum_wo_earth = radii_sum - earth_radius"
   ]
  },
  {
   "cell_type": "markdown",
   "metadata": {
    "id": "GANg1_IgNKDt"
   },
   "source": [
    "How big is the distance \"radii_sum_wo_earth\"? Let's compare it to the average distance between the Earth and the Moon, a distance we are more familiar with.\n",
    "\n",
    "You can search this distance and input it into a variable \"earth_moon_dist\" in **km** units."
   ]
  },
  {
   "cell_type": "code",
   "execution_count": null,
   "metadata": {
    "id": "HmM8jDaTNKDt"
   },
   "outputs": [],
   "source": [
    "# Your code here"
   ]
  },
  {
   "cell_type": "markdown",
   "metadata": {
    "id": "SwaeScdCNKDt"
   },
   "source": [
    "We can compare the \"radii_sum_wo_earth\" and \"earth_moon_dist\" as follows"
   ]
  },
  {
   "cell_type": "code",
   "execution_count": null,
   "metadata": {
    "colab": {
     "base_uri": "https://localhost:8080/"
    },
    "id": "yGxN7ASYNKDt",
    "outputId": "2348db4c-4545-45f1-9b78-0f26b550a6df"
   },
   "outputs": [],
   "source": [
    "radii_sum_wo_earth/earth_moon_dist"
   ]
  },
  {
   "cell_type": "markdown",
   "metadata": {
    "id": "ZxFUGzuuNKDt"
   },
   "source": [
    "Now compare \"2\\*radii_sum_wo_earth\" (sum of 7 planet diameters) and \"earth_moon_dist\" in the next cell"
   ]
  },
  {
   "cell_type": "code",
   "execution_count": null,
   "metadata": {
    "colab": {
     "base_uri": "https://localhost:8080/"
    },
    "id": "gQfWgqUeNKDt",
    "outputId": "ede9dae2-8bb7-4f29-c3a0-54b7e409e473"
   },
   "outputs": [],
   "source": [
    "# Your code here"
   ]
  },
  {
   "cell_type": "markdown",
   "metadata": {
    "id": "iyLN302bNKDu"
   },
   "source": [
    "The answer will surely **surprise** you! \n",
    "\n",
    "\n",
    "If you were to stack all the planets in our solar system (excluding the Earth), they would fit between the Earth and the Moon! Depending on the accuracy of the values you use, there might be some disagreements, but the two values should be very close.\n",
    "\n",
    "Upon running the following code, you will see a figure that demonstrates this stacking approximately to scale. For the code to work, make sure you download the [pasea-arp GitHub repository](https://github.com/heidiawhite/pasea-arp) and upload it to your Google Drive."
   ]
  },
  {
   "cell_type": "code",
   "execution_count": null,
   "metadata": {
    "colab": {
     "base_uri": "https://localhost:8080/",
     "height": 709
    },
    "id": "2oH_idrBNKDu",
    "outputId": "581e24fc-c770-48c1-bb7c-38089d3928e6"
   },
   "outputs": [],
   "source": [
    "# Refer to the Google Colab introductory video for more details\n",
    "from google.colab import drive\n",
    "drive.mount('/content/drive')\n",
    "\n",
    "# Do not worry about import statements just yet\n",
    "from IPython.display import Image\n",
    "Image('drive/My Drive/pasea-arp/Pre-workshop/planets_stack.jpg')"
   ]
  },
  {
   "cell_type": "markdown",
   "metadata": {},
   "source": [
    "You can also display the image by running the following markdown cell"
   ]
  },
  {
   "cell_type": "markdown",
   "metadata": {},
   "source": [
    "![](drive/My Drive/pasea-arp/Pre-workshop/planets_stack.jpg)"
   ]
  },
  {
   "cell_type": "markdown",
   "metadata": {
    "id": "Uc5azt6dNKDu"
   },
   "source": [
    "## Data Types in Python"
   ]
  },
  {
   "cell_type": "markdown",
   "metadata": {
    "id": "8Uzh1inNNKDu"
   },
   "source": [
    "So far, we have been working entirely with numbers (integers and floats). You can tell what data type a variable is at any time using the \"type()\" command:"
   ]
  },
  {
   "cell_type": "code",
   "execution_count": null,
   "metadata": {
    "colab": {
     "base_uri": "https://localhost:8080/"
    },
    "id": "HHHzHKgQNKDu",
    "outputId": "cb497a66-b134-43b5-c51f-8da798e2758d"
   },
   "outputs": [],
   "source": [
    "x = 5\n",
    "y = 6.0\n",
    "print(type(x))\n",
    "print(type(y))"
   ]
  },
  {
   "cell_type": "markdown",
   "metadata": {
    "id": "GFaBdJLqNKDu"
   },
   "source": [
    "While, at the very bottom of things, your data will always be numbers like this, Python's power comes in when you start looking at it's other data types, which are primarily set up to contain numbers in an organized way. Here are the basic data types in Python:\n",
    "\n",
    " * Integers\n",
    " * Floats\n",
    " * Booleans (True or False)\n",
    " * Lists (collections of items) \n",
    " * Dictionaries (collections accessed via \"keys\") \n",
    " * Strings (contained in quotes \"like this\")\n",
    " * Tuples (like lists, but immutable (unchangeable)) \n",
    " \n",
    "In the next few sections, we are going to learn about these data types (skipping integers and floats, which we've mostly covered)."
   ]
  },
  {
   "cell_type": "markdown",
   "metadata": {
    "id": "pmf8rj2ONKDu"
   },
   "source": [
    "### Booleans"
   ]
  },
  {
   "cell_type": "markdown",
   "metadata": {
    "id": "JV6qfkGmNKDv"
   },
   "source": [
    "Booleans have a one of two states,\"True\" or \"False\". Try setting a variable equal to True or False in the box below - you should see Python \"color\" the word to indicate syntactically that it is a special word in Python that has a specific meaning."
   ]
  },
  {
   "cell_type": "code",
   "execution_count": null,
   "metadata": {
    "id": "FWPqy0UwNKDv"
   },
   "outputs": [],
   "source": [
    "true = True\n",
    "false = False "
   ]
  },
  {
   "cell_type": "code",
   "execution_count": null,
   "metadata": {
    "colab": {
     "base_uri": "https://localhost:8080/"
    },
    "id": "roh-8cTiNKDv",
    "outputId": "5b20a11b-6eb7-4f88-d792-ce8b37436c44"
   },
   "outputs": [],
   "source": [
    "true"
   ]
  },
  {
   "cell_type": "markdown",
   "metadata": {
    "id": "D5nurH8TNKDv"
   },
   "source": [
    "These come in handy when we are employing **condiditional statements** in which we say \"Hey code, if some condition is True, do \"X,\" else if some other condition is True, do \"Y\". \n",
    "\n",
    "We are often using booleans without recognizing it. An example condition is given below"
   ]
  },
  {
   "cell_type": "code",
   "execution_count": null,
   "metadata": {
    "colab": {
     "base_uri": "https://localhost:8080/"
    },
    "id": "LiKuXDUcNKDv",
    "outputId": "3e3fa522-5272-488d-8a45-25484f879c39"
   },
   "outputs": [],
   "source": [
    "2*radii_sum_wo_earth < earth_moon_dist"
   ]
  },
  {
   "cell_type": "markdown",
   "metadata": {
    "id": "6yw-0_jANKDv"
   },
   "source": [
    "More on this coming up in the workshop."
   ]
  },
  {
   "cell_type": "markdown",
   "metadata": {
    "id": "hLPsub2XNKDw"
   },
   "source": [
    "### Lists"
   ]
  },
  {
   "cell_type": "markdown",
   "metadata": {
    "id": "R8RRUrpcNKDw"
   },
   "source": [
    "Lists are the most forgiving container in Python. Basically, we can shove whatever we want into a list, be they different data types, or even lists within lists. Of course, the usefulness of non-uniform containers becomes limited - the advantage to storing lots of numbers in a list is that you can then perform operations on them all without worrying that some won't work. \n",
    "\n",
    "Here's how we define a list:"
   ]
  },
  {
   "cell_type": "code",
   "execution_count": null,
   "metadata": {
    "id": "ltz2R2qENKDw"
   },
   "outputs": [],
   "source": [
    "list_1 = ['a string', 5, 6.0, True, [5, 6, 6]]"
   ]
  },
  {
   "cell_type": "markdown",
   "metadata": {
    "id": "t9mybR3iNKDw"
   },
   "source": [
    "The list above is kind of a mess - you'd almost never want a list to contain such a variety of things in it, but we wanted to highlight that, in principle, Python doesn't care what you stick inside a list. In addition to manually specifiying what is in a list, we can use some generative functions to make lists for us when they have a regular form:"
   ]
  },
  {
   "cell_type": "code",
   "execution_count": null,
   "metadata": {
    "colab": {
     "base_uri": "https://localhost:8080/"
    },
    "id": "L51LafVjNKDw",
    "outputId": "e15ae754-615b-41dd-ccbb-b8a9bd6cbc70"
   },
   "outputs": [],
   "source": [
    "count_to_10 = range(1, 11)\n",
    "print(count_to_10, type(count_to_10))"
   ]
  },
  {
   "cell_type": "markdown",
   "metadata": {
    "id": "Ql1nbPTMNKDx"
   },
   "source": [
    "What we've done above is run the built-in \"range()\" function, which returns an object of type 'range' that internally contains a sequence of integers. We can convert this internal sequence into a list as follows:"
   ]
  },
  {
   "cell_type": "code",
   "execution_count": null,
   "metadata": {
    "colab": {
     "base_uri": "https://localhost:8080/"
    },
    "id": "lWimi3MSNKDx",
    "outputId": "52c559ea-e837-494c-a770-4cead082ab7f"
   },
   "outputs": [],
   "source": [
    "list_count_to_10 = list(count_to_10)\n",
    "print(list_count_to_10, type(list_count_to_10))"
   ]
  },
  {
   "cell_type": "markdown",
   "metadata": {
    "id": "TYCblDW_NKDx"
   },
   "source": [
    "In **Python 2.x**, the range() function directly returns a list, whereas a different function \"xrange()\" returns an 'xrange' object and performs similar to what we see above. \n",
    "\n",
    "This functionality has changed in **Python 3.x**. The \"xrange()\" function is renamed to \"range()\" and the original \"range()\" function no longer exists. This change was made to reduce memory and resource consumption as well as execution time of the code. The details of this are out of scope for this tutorial, but we are mentioning them here for future reference.\n",
    "\n",
    "The original Python 2 \"range()\" returned a list of integers, which was stored in memory all at once, e.g. range(1, 1000) would have stored a list of 1000 integers in memory. This consumes a lot of computational resources and slows down the code. Instead, the Python 3 \"range\" generates numbers one at a time as you iterate using a **for** loop. We show this as follows:"
   ]
  },
  {
   "cell_type": "code",
   "execution_count": null,
   "metadata": {
    "colab": {
     "base_uri": "https://localhost:8080/"
    },
    "id": "Q7sRAijkNKDx",
    "outputId": "d6ff7fa5-b3ec-4ac3-8c79-e38e2172e4b5"
   },
   "outputs": [],
   "source": [
    "for num in count_to_10:\n",
    "    print(num)"
   ]
  },
  {
   "cell_type": "markdown",
   "metadata": {
    "id": "iUU5f8E9NKDx"
   },
   "source": [
    "In the **for** loop, you can perform operations on the integers. Over time as you use more loops, you will realize that this takes up less memory and saves time!"
   ]
  },
  {
   "cell_type": "markdown",
   "metadata": {
    "id": "fuDx2SVkNKDx"
   },
   "source": [
    "Now let's understand the Python 3 \"range\" function in more detail. The form of the function is range(start, stop[, step]), where \"start\" is inclusive and \"stop\" is exclusive. Therefore, the above represents $[1,11)$. \n",
    "\n",
    "If we wanted 0-9, we would do"
   ]
  },
  {
   "cell_type": "code",
   "execution_count": null,
   "metadata": {
    "colab": {
     "base_uri": "https://localhost:8080/"
    },
    "id": "20qFxUSRNKDx",
    "outputId": "4a138666-94a4-47e4-e723-a8d7277ea37e"
   },
   "outputs": [],
   "source": [
    "list(range(10))"
   ]
  },
  {
   "cell_type": "markdown",
   "metadata": {
    "id": "LIIURJw6NKDx"
   },
   "source": [
    "using the shortcut that if only 1 argument is used, \"start\" is assumed to be 0 and \"step\" is assumed to be 1 (it has to be an integer). "
   ]
  },
  {
   "cell_type": "markdown",
   "metadata": {
    "id": "Jd6_iNvDNKDy"
   },
   "source": [
    "## Exercise 2: skip-count\n",
    "Generate a list below containing the numbers 2, 4, 6, 8, ... 100 and save it into a variable called \"skip_count\". Then, below, print it to see you did it right."
   ]
  },
  {
   "cell_type": "code",
   "execution_count": null,
   "metadata": {
    "id": "K0-Yvv-GNKDy"
   },
   "outputs": [],
   "source": [
    "# Your code here"
   ]
  },
  {
   "cell_type": "code",
   "execution_count": null,
   "metadata": {
    "colab": {
     "base_uri": "https://localhost:8080/"
    },
    "id": "5nrAZXfmP5fi",
    "outputId": "143911a1-dbb5-4068-c795-256499689e1f"
   },
   "outputs": [],
   "source": [
    "skip_count"
   ]
  },
  {
   "cell_type": "markdown",
   "metadata": {
    "id": "84r2MuGONKDy"
   },
   "source": [
    "You can directly calculate the sum of these numbers by using the built-in \"sum()\" function"
   ]
  },
  {
   "cell_type": "code",
   "execution_count": null,
   "metadata": {
    "colab": {
     "base_uri": "https://localhost:8080/"
    },
    "id": "EeJXzKcBNKDy",
    "outputId": "d9e4bea5-afde-4155-fbb0-b47da0bd146f"
   },
   "outputs": [],
   "source": [
    "sum(skip_count)"
   ]
  },
  {
   "cell_type": "markdown",
   "metadata": {
    "id": "n4jNDFwvNKDy"
   },
   "source": [
    "We want you to understand what lists are and how they're defined. During the workshop, you will learn how to use Loops and Conditionals to generate customized lists.\n",
    "\n",
    "#### Indexing\n",
    "When we want to see what is in a list, we print it. But sometimes we want to \"pull out\" individual elements of a list and use them in calculations. For that, we need to \"slice\" or **index** the list for the element we want. Lists are indexed such that the first element is assigned \"0\" (to remember this, get into the habit of calling it the \"0th index\"). For example, using the list from above:"
   ]
  },
  {
   "cell_type": "code",
   "execution_count": null,
   "metadata": {
    "colab": {
     "base_uri": "https://localhost:8080/",
     "height": 35
    },
    "id": "I6H2vNLPNKDy",
    "outputId": "de21edf4-8267-435e-ae1c-b9f96bf4839f"
   },
   "outputs": [],
   "source": [
    "list_1[0]"
   ]
  },
  {
   "cell_type": "markdown",
   "metadata": {
    "id": "cENCZBITNKDy"
   },
   "source": [
    "Basically, we put closed brackets at the end of the variable name and specify which index we want. We can also pull multiple:"
   ]
  },
  {
   "cell_type": "code",
   "execution_count": null,
   "metadata": {
    "colab": {
     "base_uri": "https://localhost:8080/"
    },
    "id": "QMEtg9DUNKDy",
    "outputId": "923b47a1-2b6f-4916-97a0-b25cbacd331d"
   },
   "outputs": [],
   "source": [
    "list_1[0:2]"
   ]
  },
  {
   "cell_type": "markdown",
   "metadata": {
    "id": "MR_H2gIGNKDz"
   },
   "source": [
    "Notice that the 2 is not inclusive (it pulls 0th and 1st). We can also specify a skip:"
   ]
  },
  {
   "cell_type": "code",
   "execution_count": null,
   "metadata": {
    "colab": {
     "base_uri": "https://localhost:8080/"
    },
    "id": "ldp7r1OqNKDz",
    "outputId": "ef1075ce-a16c-4eb6-9c08-e0afc9b77780"
   },
   "outputs": [],
   "source": [
    "list_1[0:5:2]"
   ]
  },
  {
   "cell_type": "markdown",
   "metadata": {
    "id": "haGNHi4TNKDz"
   },
   "source": [
    "So what about that list within a list? If we want a specific number from it, we can use double indexing. Also, I'll use this as a spot to show **negative indexing** which lets you count backwards from the end of a list (if that happens to be easier):"
   ]
  },
  {
   "cell_type": "code",
   "execution_count": null,
   "metadata": {
    "colab": {
     "base_uri": "https://localhost:8080/"
    },
    "id": "AvJD5ugGNKDz",
    "outputId": "28bd46e8-3be8-4823-ef38-d7828ed5e469"
   },
   "outputs": [],
   "source": [
    "list_1[-1][1]"
   ]
  },
  {
   "cell_type": "markdown",
   "metadata": {
    "id": "mTVcV_NLNKDz"
   },
   "source": [
    "What we did was pull the -1st element (final element, 2nd to last would be -2, etc), which was the inner list, and then we indexed *that* for it's 1st element. \n",
    "\n",
    "**Try it out:** In the cell below, get it to output the \"s\" in \"a string\" in the 0th element of the list. (It works the same way). "
   ]
  },
  {
   "cell_type": "code",
   "execution_count": null,
   "metadata": {
    "colab": {
     "base_uri": "https://localhost:8080/",
     "height": 35
    },
    "id": "Oy04MAPmNKDz",
    "outputId": "218e5444-f4ae-4352-c7da-f3a39eca709b"
   },
   "outputs": [],
   "source": [
    "# Your code here"
   ]
  },
  {
   "cell_type": "markdown",
   "metadata": {
    "id": "bqz3M1NqNKD2"
   },
   "source": [
    "### Dictionaries\n",
    "Dictionaries are like lists, but rather than indexing them by element number as we were doing above, we index them by a special \"key\" that we assign to each \"value\". For example:"
   ]
  },
  {
   "cell_type": "code",
   "execution_count": null,
   "metadata": {
    "colab": {
     "base_uri": "https://localhost:8080/"
    },
    "id": "c4gH4DOPNKD2",
    "outputId": "60864993-5dbc-4fb0-d6ba-7763aaecb4a1"
   },
   "outputs": [],
   "source": [
    "# Radii of planets in our Solar System\n",
    "# https://solarsystem.nasa.gov/planet-compare/\n",
    "radii = {'Mercury' : 2439.7, 'Venus' : 6051.8,\n",
    "         'Earth' : 6371.0, 'Mars' : 3389.5,\n",
    "         'Jupiter' : 69911.0, 'Saturn': 58232.0,\n",
    "         'Uranus': 25362.0, 'Neptune': 24622.0}\n",
    "radii['Venus']"
   ]
  },
  {
   "cell_type": "markdown",
   "metadata": {
    "id": "GpFb8AUNNKD2"
   },
   "source": [
    "Dictionaries are inherently unordered - the order we define things within the dictionary doesn't matter, only that we know the key associated with each value. For some applications, this has advantages over a list. Here, if we were only interested in things like the average and median radius, a list would be fine. But if we needed to know *which* planet has *what* radius throughout my analysis, a list would require me to impose that the order went \"Mercury, Venus, Earth,...\" and to remember that order when indexing, and if the order in the list changes, keep track of those too. "
   ]
  },
  {
   "cell_type": "markdown",
   "metadata": {
    "id": "LoN10aHyNKD2"
   },
   "source": [
    "### Strings"
   ]
  },
  {
   "cell_type": "markdown",
   "metadata": {
    "id": "vHnyCtGWNKD2"
   },
   "source": [
    "We've already seen strings used - It lets you store things like words (or, later on, filepaths) in your code that otherwise don't have meaning as far as Python is concerned. Strings are the most forgiving data type of all; you can stick literally anything inside. If you have a data file with tons of different types of data in it, Python will often just read in everything as strings and let you work out how to convert the proper things into ints, floats, etc. Strings are iterable - they can be indexed like lists, character by character. "
   ]
  },
  {
   "cell_type": "markdown",
   "metadata": {
    "id": "t86YsXeTNKD2"
   },
   "source": [
    "### Tuples"
   ]
  },
  {
   "cell_type": "markdown",
   "metadata": {
    "id": "WTALjXwPNKD2"
   },
   "source": [
    "We don't use them to often, so just check out this example and follow along!"
   ]
  },
  {
   "cell_type": "code",
   "execution_count": null,
   "metadata": {
    "colab": {
     "base_uri": "https://localhost:8080/"
    },
    "id": "Mg7wVZfPNKD3",
    "outputId": "cb964d7d-6c28-4c9f-ee3c-26bfff2af663"
   },
   "outputs": [],
   "source": [
    "example_list = [1, 2, 5]\n",
    "example_tuple = (1, 2, 5)\n",
    "example_list[0] = 2\n",
    "print(example_list)"
   ]
  },
  {
   "cell_type": "markdown",
   "metadata": {
    "id": "0K7O7Z7INKD3"
   },
   "source": [
    "So we've successfully defined it as a tuple and list, and changed the 0th entry of the list. But what if we try on the tuple?"
   ]
  },
  {
   "cell_type": "code",
   "execution_count": null,
   "metadata": {
    "colab": {
     "base_uri": "https://localhost:8080/",
     "height": 166
    },
    "id": "ioQnPVVvNKD3",
    "outputId": "804e0b8c-1f39-4a66-95e4-c1b58877882d"
   },
   "outputs": [],
   "source": [
    "example_tuple[0] = 2"
   ]
  },
  {
   "cell_type": "markdown",
   "metadata": {
    "id": "KlVYXORfNKD3"
   },
   "source": [
    "Thus, we get an error. So basically, if you make a list-type item and want to make sure it can never be adjusted in your code, you can make it a tuple. This property of tuples is referred to as immutability.\n",
    "\n",
    "For more examples of the basic manipulations you can make to these basic data types, check out Chapter 2 of the [textbook](https://prappleizer.github.io/index.html), which lays some of them out!"
   ]
  },
  {
   "cell_type": "markdown",
   "metadata": {
    "id": "k3M6LhzNNKD3"
   },
   "source": [
    "## Exercise 3: Bringing it together (kind of)"
   ]
  },
  {
   "cell_type": "markdown",
   "metadata": {
    "id": "ooHxp-AzNKD3"
   },
   "source": [
    "Let's try a single, longer example that (tries to) bring in the things we've seen above. You'll find that workshop covers things like iterating/for loops and conditionals, which drastically increase what you can do with Python. Nevertheless, here's some practice with the basic operations. \n",
    "\n",
    "Let's say you have travelled to the past with a high-quality telescope, and are observing the moons of Jupiter for the first time in human history. You find 80 of them! \n",
    "\n",
    "You measure several properties of the orbits of these moons around Jupiter. You store these values in a text file called \"jupiters_moons.csv\".\n",
    "\n",
    "Now, before you announce your discovery to the world, you decide to calculate the distribution statistics of the moons. You want to use these statistics to understand the astrophysics underlying these moons.\n",
    "\n",
    "Your first step to this analysis is inputting the data. To do this, I'm going to introduce a new concept: the **Numpy** (numerical python) library. Use the following cell to load or \"import\" this library."
   ]
  },
  {
   "cell_type": "code",
   "execution_count": null,
   "metadata": {
    "id": "nsfW7MMvNKD3"
   },
   "outputs": [],
   "source": [
    "import numpy as np"
   ]
  },
  {
   "cell_type": "markdown",
   "metadata": {
    "id": "3QY_KPsSNKD3"
   },
   "source": [
    "As mentioned before, do not worry about the details of **importing libraries** just yet. We will describe this in detail during the workshop. For now, let's see how to load data using Numpy. \n",
    "\n",
    "First, you should open the \"jupiters_moons.csv\" file in the \"pasea-arp/Pre-workshop\" folder on your Google Drive (you uploaded the \"pasea-arp\" GitHub repository to your Drive earlier in this tutorial). Use a regular text editor to get a sense of how the data is stored in the file."
   ]
  },
  {
   "cell_type": "markdown",
   "metadata": {
    "id": "g8aEa4XsNKD4"
   },
   "source": [
    "Now, look up the **documentation** for Numpy's loadtxt() function — you can do so online (google the function) or by typing help(np.loadtxt) in a cell here in this notebook. Once you've done that, use loadtxt() to read the \"jupiters_moons.csv\" file into a variable called \"moons_data\". *Note:* **csv** stands for a comma separated ASCII text file, so you need to tell loadtxt() that the values are separated by \",\". The following code does this"
   ]
  },
  {
   "cell_type": "code",
   "execution_count": null,
   "metadata": {},
   "outputs": [],
   "source": [
    "moons_data = np.loadtxt('drive/My Drive/pasea-arp/Pre-workshop/jupiters_moons.csv', delimiter=',')"
   ]
  },
  {
   "cell_type": "markdown",
   "metadata": {
    "id": "MWSXtmJ9NKD4"
   },
   "source": [
    "Running the above should get you an error. This is because the file you are loading contains numbers and strings (e.g. 'Planet'), but np.loadtxt() cannot turn the strings into floats. Make sure to look at the \"dtype\" option in the documentation, and try setting it to string — this will turn all things into strings, but we can extract the numbers easily later."
   ]
  },
  {
   "cell_type": "code",
   "execution_count": null,
   "metadata": {
    "id": "mhoXxubONKD4"
   },
   "outputs": [],
   "source": [
    "# Your code here\n",
    "# Set the loadtxt() \"dtype\" option to string"
   ]
  },
  {
   "cell_type": "markdown",
   "metadata": {
    "id": "wppWufQQNKD4"
   },
   "source": [
    "You can also skip reading the first row of the file using the option \"skiprows\". This row contains names of columns rather than data, so you can ignore it."
   ]
  },
  {
   "cell_type": "code",
   "execution_count": null,
   "metadata": {
    "id": "_t0IlRlXNKD4"
   },
   "outputs": [],
   "source": [
    "# Your code here"
   ]
  },
  {
   "cell_type": "markdown",
   "metadata": {
    "id": "h2LYOPqPNKD4"
   },
   "source": [
    "Now print this data"
   ]
  },
  {
   "cell_type": "code",
   "execution_count": null,
   "metadata": {
    "colab": {
     "base_uri": "https://localhost:8080/"
    },
    "id": "Z3QNd_41NKD5",
    "outputId": "c8755802-c6b4-4867-dce5-7b3d2df04829"
   },
   "outputs": [],
   "source": [
    "moons_data"
   ]
  },
  {
   "cell_type": "markdown",
   "metadata": {
    "id": "e_M6jMPcNKD5"
   },
   "source": [
    "Take a closer look at the printed array. Notice how there are outer brackets surrounding a bunch of bracketed pairs? \n",
    "\n",
    "\"moons_data\" looks like a list of lists. Let's look at its data type"
   ]
  },
  {
   "cell_type": "code",
   "execution_count": null,
   "metadata": {
    "colab": {
     "base_uri": "https://localhost:8080/"
    },
    "id": "2ynvWUshNKD5",
    "outputId": "58d8587c-5709-4a5e-8091-e0d870a0f5c3"
   },
   "outputs": [],
   "source": [
    "# Your code here"
   ]
  },
  {
   "cell_type": "markdown",
   "metadata": {
    "id": "zm2D2N12NKD5"
   },
   "source": [
    "Thus, you get a Numpy object called \"ndarray\" (N-dimensional array). You will understand why \"ndarrays\" are powerful tools in a little bit.\n",
    "\n",
    "In the cell below, index the array for it's 0th element and see what happens:"
   ]
  },
  {
   "cell_type": "code",
   "execution_count": null,
   "metadata": {},
   "outputs": [],
   "source": [
    "# Your code here"
   ]
  },
  {
   "cell_type": "markdown",
   "metadata": {},
   "source": [
    "You should see the orbital parameters of the Jupiter moon, \"Io\". What happens if you index *that* mini-array for it's 6th element? Do that below:"
   ]
  },
  {
   "cell_type": "code",
   "execution_count": null,
   "metadata": {},
   "outputs": [],
   "source": [
    "# Your code here"
   ]
  },
  {
   "cell_type": "markdown",
   "metadata": {},
   "source": [
    "You should get Io's semi-major axis (a) as a string."
   ]
  },
  {
   "cell_type": "markdown",
   "metadata": {},
   "source": [
    "When you looked at the file in a text editor, you must have seen that different columns have different orbital parameters of the 80 moons. The 6th column contains the semi-major axes (a) of the orbits (remember that indexing starts from 0 in Python). You can access this column as follows:"
   ]
  },
  {
   "cell_type": "code",
   "execution_count": null,
   "metadata": {
    "colab": {
     "base_uri": "https://localhost:8080/"
    },
    "id": "h-FRbV2FNKD5",
    "outputId": "4fe4affb-1bb9-462a-8d2f-0065051874fa"
   },
   "outputs": [],
   "source": [
    "moons_data[:, 6]"
   ]
  },
  {
   "cell_type": "markdown",
   "metadata": {
    "id": "XuZ2AtySNKD5"
   },
   "source": [
    "The above tells the array that you want all rows but only the 6th column.\n",
    "\n",
    "We see that the values are all strings because we loaded everything using the string data type. We can extract the numbers by converting the strings to floats as follows"
   ]
  },
  {
   "cell_type": "code",
   "execution_count": null,
   "metadata": {
    "id": "rfwr9oScNKD5"
   },
   "outputs": [],
   "source": [
    "major_axes = moons_data[:, 6]\n",
    "# The following is the numpy equivalent of typecasting\n",
    "major_axes = major_axes.astype(float)"
   ]
  },
  {
   "cell_type": "markdown",
   "metadata": {
    "id": "B7M9JCGNNKD5"
   },
   "source": [
    "The above shows one advantage of using \"ndarrays\" as opposed to lists. For typecasting lists, you have to individually convert each value either manually or by using a for loop; you can try doing this yourself by converting `moons_data[:, 6]` to a list `list(moons_data[:, 6])`."
   ]
  },
  {
   "cell_type": "markdown",
   "metadata": {
    "id": "UiIdmdCMNKD6"
   },
   "source": [
    "Using the code in the previous cell, read columns 7 (eccentricities) and 10 (inclination) into variables \"eccts\" and \"incls\" respectively and convert the strings to floats"
   ]
  },
  {
   "cell_type": "code",
   "execution_count": null,
   "metadata": {
    "id": "7XFARlsaNKD6"
   },
   "outputs": [],
   "source": [
    "# Your code here"
   ]
  },
  {
   "cell_type": "markdown",
   "metadata": {
    "id": "opxioSCkNKD6"
   },
   "source": [
    "Now, to perform statistical analysis on this data, the first thing we need to do is calculate the averages. Later on, we'll see that there are external functions you can import into Python that will just do this for you, but for now let's calculate it manually (it's easy enough, right?).\n",
    "\n",
    "Above, we saw use of the sum() function - as it turns out, you can run the sum() function on a list or an ndarray (so long as it only contains numbers) and it will tell you the sum. There is also a Nympy equivalent of the sum function called \"np.sum()\", which works faster for ndarrays.\n",
    "\n",
    "The only other thing you'll need to calculate the average is the len() function, which returns the number of elements in a list/array. Using those two, define variables below called \"average_orbit_radius\" and \"average_ecct\", and calculate them."
   ]
  },
  {
   "cell_type": "code",
   "execution_count": null,
   "metadata": {
    "id": "9J_w-92WNKD6"
   },
   "outputs": [],
   "source": [
    "# Your code here"
   ]
  },
  {
   "cell_type": "markdown",
   "metadata": {
    "id": "TYAocQPDNKD6"
   },
   "source": [
    "Now let's print these quantities in a *fancy* way"
   ]
  },
  {
   "cell_type": "code",
   "execution_count": null,
   "metadata": {
    "colab": {
     "base_uri": "https://localhost:8080/"
    },
    "id": "i6xXpVksNKD6",
    "outputId": "b4598e39-16b1-4ae7-8824-3b8548fddfd0"
   },
   "outputs": [],
   "source": [
    "print(f'The average orbital semi-major axis of the moons is {average_major_axis}')\n",
    "print(f'The average orbital eccentricity of the moons is {average_ecct:.5f}')    # Using \":.5f\", you can print 5 digits after the decimal place\n",
    "print(f'The average orbital inclinations of the moons is {average_incl:.3f}')    # Using \":.3f\", you can print 3 digits after the decimal place"
   ]
  },
  {
   "cell_type": "markdown",
   "metadata": {
    "id": "RCZy8_O7NKD6"
   },
   "source": [
    "Okay, so the other thing statisticians are always interested in is the standard deviation from the mean - this basically tells how dispersed the values in a sample are. The formula for a standard deviation is \n",
    "$$ \n",
    "s = \\sqrt{\\frac{\\sum_{1}^{N}(x_i - \\mu)^2}{N-1}}\n",
    "$$\n",
    "\n",
    "where $\\mu$ is the average and N is the total number of values."
   ]
  },
  {
   "cell_type": "markdown",
   "metadata": {
    "id": "bXNQrDrONKD6"
   },
   "source": [
    "We already know how to get N, and we know what $\\mu$ is as well. So to calculate this, we need to know how to calculate the quantity on the top of the fraction. This is actually kind of tricky without the use of Numpy arrays. See the example below for elucidation:"
   ]
  },
  {
   "cell_type": "code",
   "execution_count": null,
   "metadata": {
    "colab": {
     "base_uri": "https://localhost:8080/"
    },
    "id": "nwBdXrffNKD6",
    "outputId": "25d0df35-2691-4686-a2bd-9c31f646c8d2"
   },
   "outputs": [],
   "source": [
    "print(major_axes - 1)"
   ]
  },
  {
   "cell_type": "markdown",
   "metadata": {
    "id": "Vk_BOYvkNKD7"
   },
   "source": [
    "Okay, so you can subtract an integer from an ndarray. What if we try the list version?"
   ]
  },
  {
   "cell_type": "code",
   "execution_count": null,
   "metadata": {
    "colab": {
     "base_uri": "https://localhost:8080/",
     "height": 166
    },
    "id": "HYE3WG70NKD7",
    "outputId": "659d7580-8353-4599-ad3a-11c8d3f2fc2e"
   },
   "outputs": [],
   "source": [
    "print(list(major_axes) - 1)"
   ]
  },
  {
   "cell_type": "markdown",
   "metadata": {
    "id": "VRAvpg2bNKD7"
   },
   "source": [
    "You can't directly subtract an integer from a list. But why is this subtraction important? \n",
    "\n",
    "Your spidey senses should be tingling for how we can leverage the subtraction functionality of ndarrays to calculate our standard deviation. In the cell below, fill in the variable \"top_frac_major_axis\" to calculate the following quantity:\n",
    "$$\n",
    "\\sum_{i=1}^N (x_i - \\mu)^2\n",
    "$$\n",
    "\n",
    "Notice here that you don't have to actually calculate it one by one - if we first compute a single array that represents each semi-major axis with the mean subtracted off and then that value squared, then we finish off \"top_frac_major_axes\" just by summing up that array as we've done before."
   ]
  },
  {
   "cell_type": "code",
   "execution_count": null,
   "metadata": {
    "colab": {
     "base_uri": "https://localhost:8080/"
    },
    "id": "yeOSGnWvNKD7",
    "outputId": "cf5fe2e8-7f21-4363-df75-4dd0412c20ba"
   },
   "outputs": [],
   "source": [
    "# Your code here"
   ]
  },
  {
   "cell_type": "markdown",
   "metadata": {
    "id": "q2Yp4YwrNKD7"
   },
   "source": [
    "With that done, we can easily apply the formula to get the final STD - **Hint:** the function np.sqrt() will be useful here."
   ]
  },
  {
   "cell_type": "code",
   "execution_count": null,
   "metadata": {
    "colab": {
     "base_uri": "https://localhost:8080/"
    },
    "id": "nsgVvYLANKD7",
    "outputId": "20ba0682-31f2-4b0d-aa6f-d75a17322516"
   },
   "outputs": [],
   "source": [
    "# Your code here"
   ]
  },
  {
   "cell_type": "markdown",
   "metadata": {
    "id": "WXwAcF4GNKD7"
   },
   "source": [
    "Alright! If you've done everything correctly, you should have found the averages and standard deviations.\n",
    "\n",
    "Let's, for fun, make a helpful plot to visualize the data and the calculated statistics. Don't worry about how the plotting stuff works just yet, we'll dive into it more in the next tutorial, but see if you can figure out what each part of the command is doing."
   ]
  },
  {
   "cell_type": "code",
   "execution_count": null,
   "metadata": {
    "colab": {
     "base_uri": "https://localhost:8080/",
     "height": 296
    },
    "id": "yx7LxaezNKD7",
    "outputId": "ffba99aa-3083-4a32-81e4-93d77d5b208d"
   },
   "outputs": [],
   "source": [
    "import matplotlib.pyplot as plt\n",
    "%matplotlib inline\n",
    "\n",
    "plt.hist(major_axes, alpha=0.5)\n",
    "plt.axvline(average_major_axis, color='k', label=\"Mean\")\n",
    "plt.axvline(average_major_axis + std_major_axis, ls='--', color='k', label=\"+1 STD\")\n",
    "plt.axvline(average_major_axis - std_major_axis, ls='--', color='k', label=\"-1 STD\")\n",
    "plt.xlabel('Semi-major axis')\n",
    "plt.ylabel('Number of moons of Jupiter')\n",
    "plt.legend()"
   ]
  },
  {
   "cell_type": "code",
   "execution_count": null,
   "metadata": {},
   "outputs": [],
   "source": [
    "plt.hist(eccts, alpha=0.5)\n",
    "plt.axvline(average_ecct, color='k', label=\"Mean\")\n",
    "plt.axvline(average_ecct + std_ecct, ls='--', color='k', label=\"+1 STD\")\n",
    "plt.axvline(average_ecct - std_ecct, ls='--', color='k', label=\"-1 STD\")\n",
    "plt.xlabel('Eccentricity')\n",
    "plt.ylabel('Number of moons of Jupiter')\n",
    "plt.legend()"
   ]
  },
  {
   "cell_type": "code",
   "execution_count": null,
   "metadata": {
    "colab": {
     "base_uri": "https://localhost:8080/",
     "height": 296
    },
    "id": "BYm1AnwmNKD8",
    "outputId": "67ec6c7e-481c-4060-ae77-68a7956dd593"
   },
   "outputs": [],
   "source": [
    "plt.hist(incls, alpha=0.5)\n",
    "plt.axvline(average_incl, color='k', label=\"Mean\")\n",
    "plt.axvline(average_incl + std_incl, ls='--', color='k', label=\"+1 STD\")\n",
    "plt.axvline(average_incl - std_incl, ls='--', color='k', label=\"-1 STD\")\n",
    "plt.xlabel('Inclination')\n",
    "plt.ylabel('Number of moons of Jupiter')\n",
    "plt.legend()"
   ]
  },
  {
   "cell_type": "markdown",
   "metadata": {
    "id": "bT4DjGeQNKD8"
   },
   "source": [
    "Nice! It looks like our formula for standard deviation successfully describes the distribution of orbital semi-major axes, eccentricities, and inclinations pretty well. Now, let's interpret the plots -- why do you see [multi-modalties](https://en.wikipedia.org/wiki/Multimodal_distribution) in the histograms?\n",
    "\n",
    "It is easy to understand this by visualizing the orbital distribution of the moons around jupiter. We provide the code for this visualization in the next few cells, but understanding it is beyond the scope of this tutorial.\n",
    "\n",
    "You will need three different libraries: \"Matplotlib\" for plotting (which you used above) and animation, \"mpl_toolkits\" for 3D plotting, and \"PyAstronomy\" for obtaining the orbits. \"PyAstronomy\" is not directly available in Google Colab (unlike Numpy and Matplotlib), so you will need to install it using:"
   ]
  },
  {
   "cell_type": "code",
   "execution_count": null,
   "metadata": {
    "colab": {
     "base_uri": "https://localhost:8080/"
    },
    "id": "H50RjGixNKD8",
    "outputId": "bbf680e0-c6d7-462c-b8b0-b416dbb76d14"
   },
   "outputs": [],
   "source": [
    "!pip install PyAstronomy"
   ]
  },
  {
   "cell_type": "markdown",
   "metadata": {
    "id": "cK4YyX0iNKD8"
   },
   "source": [
    "Now, load this library along with the others."
   ]
  },
  {
   "cell_type": "code",
   "execution_count": null,
   "metadata": {
    "id": "kAAPF_UXNKD8"
   },
   "outputs": [],
   "source": [
    "import matplotlib.animation as animation\n",
    "import mpl_toolkits.mplot3d.axes3d as p3\n",
    "from PyAstronomy import pyasl"
   ]
  },
  {
   "cell_type": "markdown",
   "metadata": {
    "id": "4-o7uq3GNKD8"
   },
   "source": [
    "You can vizualize the orbit of the innermost **Galilean moon** of Jupiter, **Io**, using the following code. Io is the fourth-largest moon in our Solar System!"
   ]
  },
  {
   "cell_type": "code",
   "execution_count": null,
   "metadata": {
    "colab": {
     "base_uri": "https://localhost:8080/",
     "height": 516
    },
    "id": "a9exnkMdNKD9",
    "outputId": "f2b051d2-a0ce-495c-e6d7-d77a6bce036f"
   },
   "outputs": [],
   "source": [
    "# The following code is for illustration purposes only!\n",
    "# Do not worry if you don't understand it.\n",
    "fig = plt.figure()\n",
    "ax = p3.Axes3D(fig)\n",
    "\n",
    "moon_ind = np.where(moons_data[:, 1] == 'Io')\n",
    "moon = moons_data[moon_ind][0]\n",
    "\n",
    "# Set the time to one period\n",
    "t = np.linspace(0, float(moon[12]), 100)\n",
    "\n",
    "# Create Keplerian elliptical orbits with\n",
    "# semi-major axis in length units, period in time units,\n",
    "# eccentricity, longitude of ascending node in degrees,\n",
    "# and inclination and periapsis argument in degrees.\n",
    "orbit = pyasl.KeplerEllipse(a=float(moon[6]), per=float(moon[12]),\n",
    "                            e=float(moon[7]), Omega=float(moon[8]),\n",
    "                            i=float(moon[10]), w=float(moon[11]))\n",
    "\n",
    "# Calculate the orbit position at the given points\n",
    "# in a Cartesian coordinate system.\n",
    "pos = orbit.xyzPos(t)\n",
    "\n",
    "# Plot the moon position\n",
    "red_dot, = ax.plot(pos[::, 1], pos[::, 0], pos[::, 2], 'ro', \n",
    "                   label=f'{moon[1]}')\n",
    "\n",
    "\n",
    "def animate(i, pos, red_dot):\n",
    "    red_dot.set_data([pos[i][1], pos[i][0]])\n",
    "    red_dot.set_3d_properties(pos[i][2])\n",
    "    return red_dot\n",
    "\n",
    "\n",
    "# Create animation using the animate() function\n",
    "ani = animation.FuncAnimation(fig, animate, 100, fargs=(pos, red_dot),\n",
    "                              interval=100, blit=False)\n",
    "\n",
    "ax.plot([0], [0], [0], 'bo', markersize=16, label=\"Jupiter\")\n",
    "ax.plot(pos[::, 1], pos[::, 0], pos[::, 2], 'r-')\n",
    "\n",
    "# Hide grid lines\n",
    "ax.grid(False)\n",
    "\n",
    "# Hide axes ticks\n",
    "ax.set_xticks([])\n",
    "ax.set_yticks([])\n",
    "ax.set_zticks([])\n",
    "plt.style.use('default')\n",
    "plt.legend()\n",
    "plt.show()"
   ]
  },
  {
   "cell_type": "markdown",
   "metadata": {
    "id": "S2i0RnGMWkAt"
   },
   "source": [
    "Wait a minute, we were supposed to get an animated figure! \n",
    "\n",
    "Google Colab does not directly show the animation. The trick is to use the following code:\n",
    "\n"
   ]
  },
  {
   "cell_type": "code",
   "execution_count": null,
   "metadata": {
    "colab": {
     "base_uri": "https://localhost:8080/",
     "height": 501
    },
    "id": "O_ExgYojUCSK",
    "outputId": "a3abbe06-af2c-4e7e-dcf0-41ce8e244cc4"
   },
   "outputs": [],
   "source": [
    "from IPython.display import HTML\n",
    "HTML(ani.to_html5_video())"
   ]
  },
  {
   "cell_type": "markdown",
   "metadata": {
    "id": "OvG618fiNKD9"
   },
   "source": [
    "Great, that works! You are now looking at an animation of Io's orbit. The orbit looks circular with low inclination. Let's print its semi-major axis, eccentricity, and inclination."
   ]
  },
  {
   "cell_type": "code",
   "execution_count": null,
   "metadata": {
    "colab": {
     "base_uri": "https://localhost:8080/"
    },
    "id": "zIruRm_2g2xf",
    "outputId": "e67d1cbe-4e58-4aae-bec6-037f03bbfe34"
   },
   "outputs": [],
   "source": [
    "print(f'Semi-major axis of {moon[1]} is {float(moon[6])}')\n",
    "print(f'Eccentricity of {moon[1]} is {float(moon[7])}')\n",
    "print(f'Inclination axis of {moon[1]} {float(moon[10])}')"
   ]
  },
  {
   "cell_type": "markdown",
   "metadata": {
    "id": "DxtaEEe_hgBY"
   },
   "source": [
    "Thus, your observations are correct.\n",
    "\n",
    "Now, let's investigate further and plot the orbits of all 80 moons of Jupiter. The following plots a static image of the orbits instead of an animated one because it's hard to visualize 80 animations together."
   ]
  },
  {
   "cell_type": "code",
   "execution_count": null,
   "metadata": {
    "colab": {
     "base_uri": "https://localhost:8080/",
     "height": 1000
    },
    "id": "fbIjkbJmNKD9",
    "outputId": "bb9e51ea-c7d7-41d1-d9de-a83a196455c4"
   },
   "outputs": [],
   "source": [
    "fig = plt.figure(figsize=(30, 30))\n",
    "ax = plt.axes(projection='3d')\n",
    "\n",
    "for ind, moon in enumerate(moons_data):\n",
    "    t = np.linspace(0, float(moon[12]), 100)\n",
    "    # Create Keplerian elliptical orbits with\n",
    "    # semi-major axis in length units, period in time units,\n",
    "    # eccentricity, longitude of ascending node in degrees,\n",
    "    # and inclination and periapsis argument in degrees.\n",
    "    orbit = pyasl.KeplerEllipse(a=float(moon[6]), per=float(moon[12]),\n",
    "                                e=float(moon[7]), Omega=float(moon[8]),\n",
    "                                i=float(moon[10]), w=float(moon[11]))\n",
    "\n",
    "    # Calculate the orbit position at the given points\n",
    "    # in a Cartesian coordinate system.\n",
    "    pos = orbit.xyzPos(t)\n",
    "\n",
    "    color=['r', 'b', 'g', 'y']\n",
    "    if ind < 4:\n",
    "        # Plot the orbit\n",
    "        ax.plot3D(pos[::, 1], pos[::, 0], pos[::, 2], color=color[ind], lw=1)\n",
    "        # Point of periapsis\n",
    "        ax.plot3D([pos[0, 1]], [pos[0, 0]], [pos[0, 2]], f'{color[ind]}.',\n",
    "                   markersize=6, label=f'{moon[1]}')\n",
    "    else:\n",
    "        ax.plot3D(pos[::, 1], pos[::, 0], pos[::, 2], 'k-', lw=0.25)\n",
    "        ax.plot3D([pos[0, 1]], [pos[0, 0]], [pos[0, 2]], 'k.',\n",
    "                   markersize=6)\n",
    "\n",
    "ax.plot3D([0], [0], [0], 'bo', markersize=8, label='Jupiter')\n",
    "\n",
    "plt.legend(loc='lower right', fontsize=18)\n",
    "plt.style.use('default')\n",
    "# Hide grid lines\n",
    "ax.grid(False)\n",
    "# Hide axes ticks\n",
    "ax.set_xticks([])\n",
    "ax.set_yticks([])\n",
    "ax.set_zticks([])\n",
    "plt.title('Moons of Jupiter', fontsize=20)\n",
    "plt.show()"
   ]
  },
  {
   "cell_type": "markdown",
   "metadata": {
    "id": "4O1SKJgTX9Ox"
   },
   "source": [
    "The orbits of the Galilean moons are highlighted in the above figure, but it is hard to see their structure. This is because the figure is dominated by the **irregular satellites** (or moons) that have highly eccentric orbits at large distances from Jupiter. The inclinations of these orbits are also generally high and have wide distributions. \n",
    "\n",
    "If you scroll back to the semi-major axis, eccentricity, and inclination histograms of all the moons of Jupiter, you will see that the irregular satellites represent the peaks at high values. Thus, this class of moons forms one of the peaks in the multi-modal distributions. The other peaks are formed by the **regular satellites** that include the **inner satellites** and the Galilean moons (or the main group). \n",
    "\n",
    "The regular satellites have nearly circular orbits with low inclination (similar to the Io orbit we just plotted). They are larger (in size) and more massive than the irregular satellites and orbit closer to Jupiter. They are all **prograde** moons, i.e., they orbit in the same direction as the rotation of Jupiter.\n",
    "\n",
    "Let's rerun the above code, but this time only focus on regular satellites (```\n",
    "moons_data[:8] ```)"
   ]
  },
  {
   "cell_type": "code",
   "execution_count": null,
   "metadata": {
    "colab": {
     "base_uri": "https://localhost:8080/",
     "height": 1000
    },
    "id": "pkPnN8SuioYq",
    "outputId": "13be5677-1abc-4746-84cd-47cafd18fc0d"
   },
   "outputs": [],
   "source": [
    "fig = plt.figure(figsize=(30, 30))\n",
    "ax = plt.axes(projection='3d')\n",
    "\n",
    "for ind, moon in enumerate(moons_data[:8]):\n",
    "    t = np.linspace(0, float(moon[12]), 100)\n",
    "    # Create Keplerian elliptical orbits with\n",
    "    # semi-major axis in length units, period in time units,\n",
    "    # eccentricity, longitude of ascending node in degrees,\n",
    "    # and inclination and periapsis argument in degrees.\n",
    "    orbit = pyasl.KeplerEllipse(a=float(moon[6]), per=float(moon[12]),\n",
    "                                e=float(moon[7]), Omega=float(moon[8]),\n",
    "                                i=float(moon[10]), w=float(moon[11]))\n",
    "\n",
    "    # Calculate the orbit position at the given points\n",
    "    # in a Cartesian coordinate system.\n",
    "    pos = orbit.xyzPos(t)\n",
    "\n",
    "    color=['r', 'b', 'g', 'y']\n",
    "    if ind < 4:\n",
    "        # Plot the orbit\n",
    "        ax.plot3D(pos[::, 1], pos[::, 0], pos[::, 2], color=color[ind], lw=1)\n",
    "        # Point of periapsis\n",
    "        ax.plot3D([pos[0, 1]], [pos[0, 0]], [pos[0, 2]], f'{color[ind]}.',\n",
    "                   markersize=8, label=f'{moon[1]}')\n",
    "    else:\n",
    "        ax.plot3D(pos[::, 1], pos[::, 0], pos[::, 2], 'k-', lw=0.25)\n",
    "        ax.plot3D([pos[0, 1]], [pos[0, 0]], [pos[0, 2]], 'k.',\n",
    "                   markersize=8)\n",
    "\n",
    "ax.plot3D([0], [0], [0], 'bo', markersize=10, label='Jupiter')\n",
    "\n",
    "plt.legend(loc='lower right', fontsize=18)\n",
    "plt.style.use('default')\n",
    "# Hide grid lines\n",
    "ax.grid(False)\n",
    "# Hide axes ticks\n",
    "ax.set_xticks([])\n",
    "ax.set_yticks([])\n",
    "ax.set_zticks([])\n",
    "plt.title('Moons of Jupiter', fontsize=20)\n",
    "plt.show()"
   ]
  },
  {
   "cell_type": "markdown",
   "metadata": {
    "id": "kHKzU1YwqZn4"
   },
   "source": [
    "Here you see the regular satellites: the 4 inner satellites and the 4 Galilean moons. Note that the two innermost satellite orbits are almost identical and are thus seen as only one orbit. This figure demonstrates the properties we mentioned above.\n",
    "\n",
    "The conclusion of your analysis is that there are two main types of Jupiter moons: regular and irregular. Now, you should have your astrophysics researcher hat on:\n",
    "\n",
    "***\n",
    "\n",
    "#### Q - Are the differences between the two types of Jupiter moons due to some underlying differences in the formation of these moons?\n",
    "\n",
    "***\n",
    "\n",
    "Ans. Here\n",
    "\n",
    "Hint: Refer to the references in this [wikipedia section](https://en.wikipedia.org/wiki/Moons_of_Jupiter#Origin_and_evolution)."
   ]
  },
  {
   "cell_type": "markdown",
   "metadata": {
    "id": "V3pyhT6oNKD9"
   },
   "source": [
    "## Wrap up"
   ]
  },
  {
   "cell_type": "markdown",
   "metadata": {
    "id": "fDL-9XFzNKD-"
   },
   "source": [
    "We hope this super-basic introduction has given you a glimpse at some of the basic functionality of Python. Of course, Python is way more powerful than what has been shown here. We call this _pre-workshop_ because once you know the basic data types, how to define variables, and do some simple math on them, we are going to need to jump into new concepts — for loops and conditional statements, as well as invoke new libraries (like numpy and matplotlib) to make further progress. If you're ready to do that, head on over to the workshop! "
   ]
  }
 ],
 "metadata": {
  "colab": {
   "collapsed_sections": [
    "SFeKF0fqNKDr",
    "Uc5azt6dNKDu",
    "pmf8rj2ONKDu",
    "hLPsub2XNKDw",
    "Jd6_iNvDNKDy",
    "n4jNDFwvNKDy",
    "bqz3M1NqNKD2",
    "LoN10aHyNKD2",
    "t86YsXeTNKD2",
    "k3M6LhzNNKD3",
    "V3pyhT6oNKD9"
   ],
   "name": "pre-workshop_tutorial_part1.ipynb",
   "provenance": []
  },
  "kernelspec": {
   "display_name": "Python 3 (ipykernel)",
   "language": "python",
   "name": "python3"
  },
  "language_info": {
   "codemirror_mode": {
    "name": "ipython",
    "version": 3
   },
   "file_extension": ".py",
   "mimetype": "text/x-python",
   "name": "python",
   "nbconvert_exporter": "python",
   "pygments_lexer": "ipython3",
   "version": "3.8.12"
  }
 },
 "nbformat": 4,
 "nbformat_minor": 4
}
